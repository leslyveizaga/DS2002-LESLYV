{
  "nbformat": 4,
  "nbformat_minor": 0,
  "metadata": {
    "colab": {
      "provenance": []
    },
    "kernelspec": {
      "name": "python3",
      "display_name": "Python 3"
    },
    "language_info": {
      "name": "python"
    }
  },
  "cells": [
    {
      "cell_type": "code",
      "execution_count": 2,
      "metadata": {
        "id": "bQZeUNZ6eyi9"
      },
      "outputs": [],
      "source": [
        "import requests\n",
        "import json\n",
        "import pandas as pd\n"
      ]
    },
    {
      "cell_type": "code",
      "source": [
        "#Take user input for a stock (using the Ticker Symbol)\n",
        "stock=input()"
      ],
      "metadata": {
        "colab": {
          "base_uri": "https://localhost:8080/"
        },
        "id": "VxFeKYg3gcOF",
        "outputId": "f31192e8-25f2-41e0-f7c3-d11e04ea7f21"
      },
      "execution_count": 3,
      "outputs": [
        {
          "name": "stdout",
          "output_type": "stream",
          "text": [
            "BA\n"
          ]
        }
      ]
    },
    {
      "cell_type": "code",
      "source": [
        "#Ticker Name\n",
        "print(\"Stock Ticker Name is:\" + stock)"
      ],
      "metadata": {
        "colab": {
          "base_uri": "https://localhost:8080/"
        },
        "id": "QE0EfPkEgnzv",
        "outputId": "e193fa5f-3c95-465f-ccab-55e995b3afce"
      },
      "execution_count": 4,
      "outputs": [
        {
          "output_type": "stream",
          "name": "stdout",
          "text": [
            "Stock Ticker Name is:BA\n"
          ]
        }
      ]
    },
    {
      "cell_type": "code",
      "source": [
        "#Full Name of Stock\n",
        "apikey= \"J6vz0MLwdT8Fe38Y83bKh4L2098q02qc8nCyGV7R\"\n",
        "url = \"https://yfapi.net/v6/finance/quote\"\n",
        "querystring = {\"symbols\":stock}\n",
        "\n",
        "headers = {\n",
        "    'x-api-key': apikey\n",
        "    }\n",
        "\n",
        "response = requests.request(\"GET\", url, headers=headers, params=querystring)\n",
        "# print(response.text)\n",
        "quote_json = response.json()\n",
        "full_name = quote_json['quoteResponse']['result'][0][\"longName\"]\n",
        "print(full_name)"
      ],
      "metadata": {
        "colab": {
          "base_uri": "https://localhost:8080/"
        },
        "id": "5YrIRCq5hLa7",
        "outputId": "ed21f8ae-5c01-4920-9a62-ac57c8821e3b"
      },
      "execution_count": 84,
      "outputs": [
        {
          "output_type": "stream",
          "name": "stdout",
          "text": [
            "The Boeing Company\n"
          ]
        }
      ]
    },
    {
      "cell_type": "code",
      "source": [
        "#Current Market Price\n",
        "cmp = quote_json['quoteResponse']['result'][0][\"regularMarketPrice\"]\n",
        "print(\" Price: $\" + str(cmp))"
      ],
      "metadata": {
        "colab": {
          "base_uri": "https://localhost:8080/"
        },
        "id": "d5amWpnbi8wo",
        "outputId": "2c4ebb4b-287b-451f-85f9-8f967d161bf4"
      },
      "execution_count": 82,
      "outputs": [
        {
          "output_type": "stream",
          "name": "stdout",
          "text": [
            " Price: $156.32\n"
          ]
        }
      ]
    },
    {
      "cell_type": "code",
      "source": [
        "#Target Mean Price\n",
        "apikey= \"J6vz0MLwdT8Fe38Y83bKh4L2098q02qc8nCyGV7R\"\n",
        "url = f\"https://yfapi.net/v11/finance/quoteSummary/{stock}\"\n",
        "querystring = {\"modules\":'financialData'}\n",
        "headers = {\n",
        "    'x-api-key': apikey\n",
        "    }\n",
        "response = requests.request(\"GET\", url, headers=headers, params=querystring)\n",
        "\n",
        "quoteSummary_json = response.json()\n",
        "\n",
        "tmp = quoteSummary_json['quoteSummary']['result'][0]['financialData']['targetMeanPrice']['raw']\n",
        "print(\"Target Mean Price: $\" + str(tmp))"
      ],
      "metadata": {
        "colab": {
          "base_uri": "https://localhost:8080/"
        },
        "id": "rmmikutrjvMf",
        "outputId": "d4a5759e-c52e-4f35-a76d-8ff7609b5d49"
      },
      "execution_count": 83,
      "outputs": [
        {
          "output_type": "stream",
          "name": "stdout",
          "text": [
            "Target Mean Price: $211.76\n"
          ]
        }
      ]
    },
    {
      "cell_type": "code",
      "source": [
        "#52 week high and 52 week low\n",
        "high52weeks = quote_json['quoteResponse']['result'][0]['fiftyTwoWeekHigh']\n",
        "low52weeks = quote_json['quoteResponse']['result'][0]['fiftyTwoWeekLow']\n",
        "print(f\"52 week high: {high52weeks}\")\n",
        "print(f\"52 week low: {low52weeks}\")"
      ],
      "metadata": {
        "colab": {
          "base_uri": "https://localhost:8080/"
        },
        "id": "3jE68tlXj2pj",
        "outputId": "78b73ead-3fe2-435a-ebaf-92254b279419"
      },
      "execution_count": 79,
      "outputs": [
        {
          "output_type": "stream",
          "name": "stdout",
          "text": [
            "52 week high: 267.54\n",
            "52 week low: 151.65\n"
          ]
        }
      ]
    },
    {
      "cell_type": "code",
      "source": [
        "# 5 of the current trending stock\n",
        "region = 'US'\n",
        "url = f\"https://yfapi.net/v1/finance/trending/{region}\"\n",
        "querystring = {} # {\"modules\":'financialData'}\n",
        "response = requests.request(\"GET\", url, headers=headers, params=querystring)\n",
        "\n",
        "trending_json = response.json()\n",
        "print('--- 5 trending stocks in the U.S. ---')\n",
        "for i in range(5):\n",
        "  print(f\"{i+1}: {trending_json['finance']['result'][0]['quotes'][i]['symbol']}\")\n"
      ],
      "metadata": {
        "colab": {
          "base_uri": "https://localhost:8080/"
        },
        "id": "DfS1_3wZj6G7",
        "outputId": "fe41205c-2613-4f19-c381-da66256f3685"
      },
      "execution_count": 78,
      "outputs": [
        {
          "output_type": "stream",
          "name": "stdout",
          "text": [
            "--- 5 trending stocks in the U.S. ---\n",
            "1: ^N225\n",
            "2: NQ=F\n",
            "3: 9866.HK\n",
            "4: 9988.HK\n",
            "5: ^HSI\n"
          ]
        }
      ]
    },
    {
      "cell_type": "markdown",
      "source": [
        "I put the stock info into a dataframe but the instructions on the discord confused me with which specific data I was supposed to input so\n",
        "this was my best interpretation."
      ],
      "metadata": {
        "id": "WzI5wNb19o3C"
      }
    },
    {
      "cell_type": "code",
      "source": [
        "# put data in data frame\n",
        "columns = ['Symbol', 'Full Name', 'Current Market Price', 'Target Mean Price', '52 week high', '52 week low']\n",
        "data = [[stock, full_name, cmp, tmp, high52weeks, low52weeks]]\n",
        "df = pd.DataFrame(data, columns=columns)\n",
        "df"
      ],
      "metadata": {
        "colab": {
          "base_uri": "https://localhost:8080/",
          "height": 89
        },
        "id": "-KR0gT-w77BV",
        "outputId": "e677b4bc-c739-43c0-f27e-7ec10895c25b"
      },
      "execution_count": 87,
      "outputs": [
        {
          "output_type": "execute_result",
          "data": {
            "text/plain": [
              "  Symbol           Full Name  Current Market Price  Target Mean Price  \\\n",
              "0     BA  The Boeing Company                156.32             211.76   \n",
              "\n",
              "   52 week high  52 week low  \n",
              "0        267.54       151.65  "
            ],
            "text/html": [
              "\n",
              "  <div id=\"df-57ac7b8f-72b7-4c75-aee0-6c08f52dd1a3\" class=\"colab-df-container\">\n",
              "    <div>\n",
              "<style scoped>\n",
              "    .dataframe tbody tr th:only-of-type {\n",
              "        vertical-align: middle;\n",
              "    }\n",
              "\n",
              "    .dataframe tbody tr th {\n",
              "        vertical-align: top;\n",
              "    }\n",
              "\n",
              "    .dataframe thead th {\n",
              "        text-align: right;\n",
              "    }\n",
              "</style>\n",
              "<table border=\"1\" class=\"dataframe\">\n",
              "  <thead>\n",
              "    <tr style=\"text-align: right;\">\n",
              "      <th></th>\n",
              "      <th>Symbol</th>\n",
              "      <th>Full Name</th>\n",
              "      <th>Current Market Price</th>\n",
              "      <th>Target Mean Price</th>\n",
              "      <th>52 week high</th>\n",
              "      <th>52 week low</th>\n",
              "    </tr>\n",
              "  </thead>\n",
              "  <tbody>\n",
              "    <tr>\n",
              "      <th>0</th>\n",
              "      <td>BA</td>\n",
              "      <td>The Boeing Company</td>\n",
              "      <td>156.32</td>\n",
              "      <td>211.76</td>\n",
              "      <td>267.54</td>\n",
              "      <td>151.65</td>\n",
              "    </tr>\n",
              "  </tbody>\n",
              "</table>\n",
              "</div>\n",
              "    <div class=\"colab-df-buttons\">\n",
              "\n",
              "  <div class=\"colab-df-container\">\n",
              "    <button class=\"colab-df-convert\" onclick=\"convertToInteractive('df-57ac7b8f-72b7-4c75-aee0-6c08f52dd1a3')\"\n",
              "            title=\"Convert this dataframe to an interactive table.\"\n",
              "            style=\"display:none;\">\n",
              "\n",
              "  <svg xmlns=\"http://www.w3.org/2000/svg\" height=\"24px\" viewBox=\"0 -960 960 960\">\n",
              "    <path d=\"M120-120v-720h720v720H120Zm60-500h600v-160H180v160Zm220 220h160v-160H400v160Zm0 220h160v-160H400v160ZM180-400h160v-160H180v160Zm440 0h160v-160H620v160ZM180-180h160v-160H180v160Zm440 0h160v-160H620v160Z\"/>\n",
              "  </svg>\n",
              "    </button>\n",
              "\n",
              "  <style>\n",
              "    .colab-df-container {\n",
              "      display:flex;\n",
              "      gap: 12px;\n",
              "    }\n",
              "\n",
              "    .colab-df-convert {\n",
              "      background-color: #E8F0FE;\n",
              "      border: none;\n",
              "      border-radius: 50%;\n",
              "      cursor: pointer;\n",
              "      display: none;\n",
              "      fill: #1967D2;\n",
              "      height: 32px;\n",
              "      padding: 0 0 0 0;\n",
              "      width: 32px;\n",
              "    }\n",
              "\n",
              "    .colab-df-convert:hover {\n",
              "      background-color: #E2EBFA;\n",
              "      box-shadow: 0px 1px 2px rgba(60, 64, 67, 0.3), 0px 1px 3px 1px rgba(60, 64, 67, 0.15);\n",
              "      fill: #174EA6;\n",
              "    }\n",
              "\n",
              "    .colab-df-buttons div {\n",
              "      margin-bottom: 4px;\n",
              "    }\n",
              "\n",
              "    [theme=dark] .colab-df-convert {\n",
              "      background-color: #3B4455;\n",
              "      fill: #D2E3FC;\n",
              "    }\n",
              "\n",
              "    [theme=dark] .colab-df-convert:hover {\n",
              "      background-color: #434B5C;\n",
              "      box-shadow: 0px 1px 3px 1px rgba(0, 0, 0, 0.15);\n",
              "      filter: drop-shadow(0px 1px 2px rgba(0, 0, 0, 0.3));\n",
              "      fill: #FFFFFF;\n",
              "    }\n",
              "  </style>\n",
              "\n",
              "    <script>\n",
              "      const buttonEl =\n",
              "        document.querySelector('#df-57ac7b8f-72b7-4c75-aee0-6c08f52dd1a3 button.colab-df-convert');\n",
              "      buttonEl.style.display =\n",
              "        google.colab.kernel.accessAllowed ? 'block' : 'none';\n",
              "\n",
              "      async function convertToInteractive(key) {\n",
              "        const element = document.querySelector('#df-57ac7b8f-72b7-4c75-aee0-6c08f52dd1a3');\n",
              "        const dataTable =\n",
              "          await google.colab.kernel.invokeFunction('convertToInteractive',\n",
              "                                                    [key], {});\n",
              "        if (!dataTable) return;\n",
              "\n",
              "        const docLinkHtml = 'Like what you see? Visit the ' +\n",
              "          '<a target=\"_blank\" href=https://colab.research.google.com/notebooks/data_table.ipynb>data table notebook</a>'\n",
              "          + ' to learn more about interactive tables.';\n",
              "        element.innerHTML = '';\n",
              "        dataTable['output_type'] = 'display_data';\n",
              "        await google.colab.output.renderOutput(dataTable, element);\n",
              "        const docLink = document.createElement('div');\n",
              "        docLink.innerHTML = docLinkHtml;\n",
              "        element.appendChild(docLink);\n",
              "      }\n",
              "    </script>\n",
              "  </div>\n",
              "\n",
              "\n",
              "  <div id=\"id_be0bc561-1d7c-4b0b-8292-b5c6567d3d39\">\n",
              "    <style>\n",
              "      .colab-df-generate {\n",
              "        background-color: #E8F0FE;\n",
              "        border: none;\n",
              "        border-radius: 50%;\n",
              "        cursor: pointer;\n",
              "        display: none;\n",
              "        fill: #1967D2;\n",
              "        height: 32px;\n",
              "        padding: 0 0 0 0;\n",
              "        width: 32px;\n",
              "      }\n",
              "\n",
              "      .colab-df-generate:hover {\n",
              "        background-color: #E2EBFA;\n",
              "        box-shadow: 0px 1px 2px rgba(60, 64, 67, 0.3), 0px 1px 3px 1px rgba(60, 64, 67, 0.15);\n",
              "        fill: #174EA6;\n",
              "      }\n",
              "\n",
              "      [theme=dark] .colab-df-generate {\n",
              "        background-color: #3B4455;\n",
              "        fill: #D2E3FC;\n",
              "      }\n",
              "\n",
              "      [theme=dark] .colab-df-generate:hover {\n",
              "        background-color: #434B5C;\n",
              "        box-shadow: 0px 1px 3px 1px rgba(0, 0, 0, 0.15);\n",
              "        filter: drop-shadow(0px 1px 2px rgba(0, 0, 0, 0.3));\n",
              "        fill: #FFFFFF;\n",
              "      }\n",
              "    </style>\n",
              "    <button class=\"colab-df-generate\" onclick=\"generateWithVariable('df')\"\n",
              "            title=\"Generate code using this dataframe.\"\n",
              "            style=\"display:none;\">\n",
              "\n",
              "  <svg xmlns=\"http://www.w3.org/2000/svg\" height=\"24px\"viewBox=\"0 0 24 24\"\n",
              "       width=\"24px\">\n",
              "    <path d=\"M7,19H8.4L18.45,9,17,7.55,7,17.6ZM5,21V16.75L18.45,3.32a2,2,0,0,1,2.83,0l1.4,1.43a1.91,1.91,0,0,1,.58,1.4,1.91,1.91,0,0,1-.58,1.4L9.25,21ZM18.45,9,17,7.55Zm-12,3A5.31,5.31,0,0,0,4.9,8.1,5.31,5.31,0,0,0,1,6.5,5.31,5.31,0,0,0,4.9,4.9,5.31,5.31,0,0,0,6.5,1,5.31,5.31,0,0,0,8.1,4.9,5.31,5.31,0,0,0,12,6.5,5.46,5.46,0,0,0,6.5,12Z\"/>\n",
              "  </svg>\n",
              "    </button>\n",
              "    <script>\n",
              "      (() => {\n",
              "      const buttonEl =\n",
              "        document.querySelector('#id_be0bc561-1d7c-4b0b-8292-b5c6567d3d39 button.colab-df-generate');\n",
              "      buttonEl.style.display =\n",
              "        google.colab.kernel.accessAllowed ? 'block' : 'none';\n",
              "\n",
              "      buttonEl.onclick = () => {\n",
              "        google.colab.notebook.generateWithVariable('df');\n",
              "      }\n",
              "      })();\n",
              "    </script>\n",
              "  </div>\n",
              "\n",
              "    </div>\n",
              "  </div>\n"
            ],
            "application/vnd.google.colaboratory.intrinsic+json": {
              "type": "dataframe",
              "variable_name": "df",
              "summary": "{\n  \"name\": \"df\",\n  \"rows\": 1,\n  \"fields\": [\n    {\n      \"column\": \"Symbol\",\n      \"properties\": {\n        \"dtype\": \"string\",\n        \"num_unique_values\": 1,\n        \"samples\": [\n          \"BA\"\n        ],\n        \"semantic_type\": \"\",\n        \"description\": \"\"\n      }\n    },\n    {\n      \"column\": \"Full Name\",\n      \"properties\": {\n        \"dtype\": \"string\",\n        \"num_unique_values\": 1,\n        \"samples\": [\n          \"The Boeing Company\"\n        ],\n        \"semantic_type\": \"\",\n        \"description\": \"\"\n      }\n    },\n    {\n      \"column\": \"Current Market Price\",\n      \"properties\": {\n        \"dtype\": \"number\",\n        \"std\": null,\n        \"min\": 156.32,\n        \"max\": 156.32,\n        \"num_unique_values\": 1,\n        \"samples\": [\n          156.32\n        ],\n        \"semantic_type\": \"\",\n        \"description\": \"\"\n      }\n    },\n    {\n      \"column\": \"Target Mean Price\",\n      \"properties\": {\n        \"dtype\": \"number\",\n        \"std\": null,\n        \"min\": 211.76,\n        \"max\": 211.76,\n        \"num_unique_values\": 1,\n        \"samples\": [\n          211.76\n        ],\n        \"semantic_type\": \"\",\n        \"description\": \"\"\n      }\n    },\n    {\n      \"column\": \"52 week high\",\n      \"properties\": {\n        \"dtype\": \"number\",\n        \"std\": null,\n        \"min\": 267.54,\n        \"max\": 267.54,\n        \"num_unique_values\": 1,\n        \"samples\": [\n          267.54\n        ],\n        \"semantic_type\": \"\",\n        \"description\": \"\"\n      }\n    },\n    {\n      \"column\": \"52 week low\",\n      \"properties\": {\n        \"dtype\": \"number\",\n        \"std\": null,\n        \"min\": 151.65,\n        \"max\": 151.65,\n        \"num_unique_values\": 1,\n        \"samples\": [\n          151.65\n        ],\n        \"semantic_type\": \"\",\n        \"description\": \"\"\n      }\n    }\n  ]\n}"
            }
          },
          "metadata": {},
          "execution_count": 87
        }
      ]
    },
    {
      "cell_type": "markdown",
      "source": [],
      "metadata": {
        "id": "pUWRdBIG8bhT"
      }
    }
  ]
}