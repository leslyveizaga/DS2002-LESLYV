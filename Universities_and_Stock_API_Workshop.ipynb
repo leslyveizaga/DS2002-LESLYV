{
  "cells": [
    {
      "cell_type": "markdown",
      "metadata": {
        "id": "YHwTFoDB04MH"
      },
      "source": [
        "# Using API Calls in Python with JSON and DataFrames - University Data Example\n",
        "In this notebook, we will make API requests to the Hipolabs Universities API, parse the JSON response, and convert it into Pandas DataFrames for analysis and visualization."
      ],
      "id": "YHwTFoDB04MH"
    },
    {
      "cell_type": "markdown",
      "metadata": {
        "id": "CDPNEdDF04MJ"
      },
      "source": [
        "### Step 1: Making the API Call to Fetch University Data"
      ],
      "id": "CDPNEdDF04MJ"
    },
    {
      "cell_type": "code",
      "execution_count": null,
      "metadata": {
        "id": "pY6qqMVA04MJ"
      },
      "outputs": [],
      "source": [
        "import requests\n",
        "import json\n",
        "import pandas as pd\n",
        "\n",
        "# API endpoint for fetching universities\n",
        "url = \"http://universities.hipolabs.com/search?country=United%20States\"\n",
        "\n",
        "# Make the GET request\n",
        "response = requests.get(url)\n",
        "\n",
        "# Check the status code\n",
        "if response.status_code == 200:\n",
        "    print(\"API request successful!\")\n",
        "else:\n",
        "    print(f\"Failed to retrieve data: {response.status_code}\")"
      ],
      "id": "pY6qqMVA04MJ"
    },
    {
      "cell_type": "markdown",
      "metadata": {
        "id": "N7564Ydt04MK"
      },
      "source": [
        "### Step 2: Parsing the JSON Response"
      ],
      "id": "N7564Ydt04MK"
    },
    {
      "cell_type": "code",
      "execution_count": null,
      "metadata": {
        "id": "VnNhC0LN04MK"
      },
      "outputs": [],
      "source": [
        "# Parse the JSON response\n",
        "university_data = response.json()\n",
        "\n",
        "# Pretty-print the first university\n",
        "print(json.dumps(university_data[0], indent=2))"
      ],
      "id": "VnNhC0LN04MK"
    },
    {
      "cell_type": "markdown",
      "metadata": {
        "id": "LpvYuFhm04MK"
      },
      "source": [
        "### Step 3: Converting the JSON Data to a DataFrame"
      ],
      "id": "LpvYuFhm04MK"
    },
    {
      "cell_type": "code",
      "execution_count": null,
      "metadata": {
        "id": "6TXNwd7L04MK"
      },
      "outputs": [],
      "source": [
        "# Convert JSON data to a DataFrame\n",
        "df = pd.DataFrame(university_data)\n",
        "\n",
        "# Display the first few rows of the DataFrame\n",
        "print(df.head())\n",
        "df"
      ],
      "id": "6TXNwd7L04MK"
    },
    {
      "cell_type": "markdown",
      "metadata": {
        "id": "u_DHkVg004ML"
      },
      "source": [
        "### Step 4: Basic Data Analysis"
      ],
      "id": "u_DHkVg004ML"
    },
    {
      "cell_type": "code",
      "execution_count": null,
      "metadata": {
        "id": "ovs5UIKs04ML"
      },
      "outputs": [],
      "source": [
        "# Count the number of universities by state\n",
        "state_counts = df['state-province'].value_counts()\n",
        "print(state_counts)"
      ],
      "id": "ovs5UIKs04ML"
    },
    {
      "cell_type": "markdown",
      "metadata": {
        "id": "cAPYEMN304ML"
      },
      "source": [
        "### Step 5: Data Visualization"
      ],
      "id": "cAPYEMN304ML"
    },
    {
      "cell_type": "code",
      "execution_count": null,
      "metadata": {
        "id": "g7yUOl-804ML"
      },
      "outputs": [],
      "source": [
        "import matplotlib.pyplot as plt\n",
        "\n",
        "# Plot the number of universities per state\n",
        "state_counts.plot(kind='bar', figsize=(10, 6))\n",
        "plt.title(\"Number of Universities per State\")\n",
        "plt.xlabel(\"State\")\n",
        "plt.ylabel(\"Number of Universities\")\n",
        "plt.show()"
      ],
      "id": "g7yUOl-804ML"
    },
    {
      "cell_type": "markdown",
      "metadata": {
        "id": "WhSWvUWS04ML"
      },
      "source": [
        "### Step 6: Extending to Multiple Countries"
      ],
      "id": "WhSWvUWS04ML"
    },
    {
      "cell_type": "code",
      "execution_count": null,
      "metadata": {
        "id": "ctTMYEJp04ML"
      },
      "outputs": [],
      "source": [
        "countries = [\"United States\", \"Canada\", \"Australia\", \"United Kingdom\"]\n",
        "university_list = []\n",
        "\n",
        "for country in countries:\n",
        "    response = requests.get(f\"http://universities.hipolabs.com/search?country={country}\")\n",
        "    data = response.json()\n",
        "\n",
        "    for uni in data:\n",
        "        uni['country'] = country\n",
        "        university_list.append(uni)\n",
        "\n",
        "# Convert to DataFrame\n",
        "df_universities = pd.DataFrame(university_list)\n",
        "\n",
        "# Display the first few rows\n",
        "print(df_universities.head())"
      ],
      "id": "ctTMYEJp04ML"
    },
    {
      "cell_type": "markdown",
      "metadata": {
        "id": "PIgW1_1p04ML"
      },
      "source": [
        "### Step 7: Visualizing University Counts by Country"
      ],
      "id": "PIgW1_1p04ML"
    },
    {
      "cell_type": "code",
      "execution_count": null,
      "metadata": {
        "id": "TLQPcYvY04ML"
      },
      "outputs": [],
      "source": [
        "# Count the number of universities per country\n",
        "country_counts = df_universities['country'].value_counts()\n",
        "\n",
        "# Plot the data\n",
        "country_counts.plot(kind='bar', figsize=(10, 6))\n",
        "plt.title(\"Number of Universities per Country\")\n",
        "plt.xlabel(\"Country\")\n",
        "plt.ylabel(\"Number of Universities\")\n",
        "plt.show()"
      ],
      "id": "TLQPcYvY04ML"
    },
    {
      "cell_type": "markdown",
      "source": [
        "###Step 8: Customizing the Workshop\n",
        "\n",
        "You can experiment further by:\n",
        "\n",
        "\n",
        "\n",
        "*   Fetching data for specific regions.\n",
        "*   Analyzing other attributes such as university domains.\n",
        "*   Creating visualizations to compare universities in different regions.\n",
        "\n"
      ],
      "metadata": {
        "id": "b-dBnRNT1MQF"
      },
      "id": "b-dBnRNT1MQF"
    },
    {
      "cell_type": "markdown",
      "source": [
        "For the followig you will need to get your API key from  https://financeapi.net/\n",
        "Examine the demo page and sample data to be returned"
      ],
      "metadata": {
        "id": "iwD_LJNy2L7u"
      },
      "id": "iwD_LJNy2L7u"
    },
    {
      "cell_type": "code",
      "source": [
        "import json\n",
        "import pandas as pd\n",
        "import json\n",
        "import requests"
      ],
      "metadata": {
        "id": "80xOdsHQ2SzU"
      },
      "id": "80xOdsHQ2SzU",
      "execution_count": 35,
      "outputs": []
    },
    {
      "cell_type": "code",
      "source": [
        "#get stock from the user\n",
        "stock=input()"
      ],
      "metadata": {
        "id": "qdoW9lbM2Wes",
        "outputId": "1768b228-e42a-4bf3-fc6f-de0a1457724d",
        "colab": {
          "base_uri": "https://localhost:8080/"
        }
      },
      "id": "qdoW9lbM2Wes",
      "execution_count": 36,
      "outputs": [
        {
          "name": "stdout",
          "output_type": "stream",
          "text": [
            "AMZN\n"
          ]
        }
      ]
    },
    {
      "cell_type": "code",
      "source": [
        "print(\"The Stock we will research is:\" + stock)"
      ],
      "metadata": {
        "id": "Jb5ddkbl2YWF",
        "outputId": "d015350d-410d-4cc0-9d38-8b022a8cb487",
        "colab": {
          "base_uri": "https://localhost:8080/"
        }
      },
      "id": "Jb5ddkbl2YWF",
      "execution_count": 28,
      "outputs": [
        {
          "output_type": "stream",
          "name": "stdout",
          "text": [
            "The Stock we will research is:AMZN\n"
          ]
        }
      ]
    },
    {
      "cell_type": "code",
      "source": [
        "apikey=\"Leslyapi\"\n",
        "\n",
        "url = \"https://yfapi.net/v6/finance/quote\"\n",
        "\n",
        "querystring = {\"symbols\":stock}\n",
        "\n",
        "headers = {\n",
        "    'x-api-key': apikey\n",
        "    }\n",
        "\n",
        "response = requests.request(\"GET\", url, headers=headers, params=querystring)\n",
        "\n",
        "print(response.text)"
      ],
      "metadata": {
        "id": "pFKgjZlO2atU",
        "outputId": "b8a8ac85-c732-4e8c-e8d1-be7e5cf3fee9",
        "colab": {
          "base_uri": "https://localhost:8080/"
        }
      },
      "id": "pFKgjZlO2atU",
      "execution_count": 37,
      "outputs": [
        {
          "output_type": "stream",
          "name": "stdout",
          "text": [
            "{\"quoteResponse\":{\"result\":[{\"language\":\"en-US\",\"region\":\"US\",\"quoteType\":\"EQUITY\",\"typeDisp\":\"Equity\",\"quoteSourceName\":\"Nasdaq Real Time Price\",\"triggerable\":true,\"customPriceAlertConfidence\":\"HIGH\",\"currency\":\"USD\",\"exchange\":\"NMS\",\"shortName\":\"Amazon.com, Inc.\",\"longName\":\"Amazon.com, Inc.\",\"messageBoardId\":\"finmb_18749\",\"exchangeTimezoneName\":\"America/New_York\",\"exchangeTimezoneShortName\":\"EDT\",\"gmtOffSetMilliseconds\":-14400000,\"market\":\"us_market\",\"esgPopulated\":false,\"marketState\":\"POST\",\"regularMarketChangePercent\":-0.71157485,\"regularMarketPrice\":191.16,\"fiftyTwoWeekHighChange\":-10.039993,\"hasPrePostMarketData\":true,\"firstTradeDateMilliseconds\":863703000000,\"priceHint\":2,\"postMarketChangePercent\":0.054925572,\"postMarketTime\":1727385824,\"postMarketPrice\":191.265,\"postMarketChange\":0.10499573,\"regularMarketChange\":-1.3699951,\"regularMarketTime\":1727380801,\"regularMarketDayHigh\":194.53,\"regularMarketDayRange\":\"189.58 - 194.53\",\"regularMarketDayLow\":189.58,\"regularMarketVolume\":34365371,\"regularMarketPreviousClose\":192.53,\"bid\":191.1,\"ask\":191.27,\"bidSize\":1,\"askSize\":1,\"fullExchangeName\":\"NasdaqGS\",\"financialCurrency\":\"USD\",\"regularMarketOpen\":194.22,\"averageDailyVolume3Month\":41927450,\"averageDailyVolume10Day\":39341710,\"fiftyTwoWeekLowChange\":72.810005,\"fiftyTwoWeekLowChangePercent\":0.61520916,\"fiftyTwoWeekRange\":\"118.35 - 201.2\",\"fiftyTwoWeekHighChangePercent\":-0.049900565,\"fiftyTwoWeekLow\":118.35,\"fiftyTwoWeekHigh\":201.2,\"fiftyTwoWeekChangePercent\":52.825844,\"earningsTimestamp\":1722542460,\"earningsTimestampStart\":1729767540,\"earningsTimestampEnd\":1730116800,\"earningsCallTimestampStart\":1722547800,\"earningsCallTimestampEnd\":1722547800,\"isEarningsDateEstimate\":true,\"trailingAnnualDividendRate\":0.0,\"trailingPE\":45.51429,\"trailingAnnualDividendYield\":0.0,\"epsTrailingTwelveMonths\":4.2,\"epsForward\":5.82,\"epsCurrentYear\":4.73,\"priceEpsCurrentYear\":40.414375,\"sharesOutstanding\":10495599616,\"bookValue\":22.54,\"fiftyDayAverage\":178.8666,\"fiftyDayAverageChange\":12.293411,\"fiftyDayAverageChangePercent\":0.0687295,\"twoHundredDayAverage\":175.6694,\"twoHundredDayAverageChange\":15.490601,\"twoHundredDayAverageChangePercent\":0.088180415,\"marketCap\":2006338895872,\"forwardPE\":32.84536,\"priceToBook\":8.480923,\"sourceInterval\":15,\"exchangeDataDelayedBy\":0,\"averageAnalystRating\":\"1.8 - Buy\",\"tradeable\":false,\"cryptoTradeable\":false,\"displayName\":\"Amazon.com\",\"symbol\":\"AMZN\"}],\"error\":null}}\n"
          ]
        }
      ]
    },
    {
      "cell_type": "code",
      "source": [
        "#print the company name and price\n",
        "stock_json = response.json()\n",
        "print(stock_json['quoteResponse']['result'][0][\"longName\"] + \" Price:$\" + str(stock_json['quoteResponse']['result'][0][\"regularMarketPrice\"]))"
      ],
      "metadata": {
        "id": "SVJqBY7y2eSs",
        "outputId": "65745b5d-4b7b-4089-efd1-f138825ec60f",
        "colab": {
          "base_uri": "https://localhost:8080/"
        }
      },
      "id": "SVJqBY7y2eSs",
      "execution_count": 26,
      "outputs": [
        {
          "output_type": "stream",
          "name": "stdout",
          "text": [
            "Amazon.com, Inc. Price:$191.16\n"
          ]
        }
      ]
    },
    {
      "cell_type": "markdown",
      "source": [
        "Ask the user for a list of stocks and pass that answer back to the user\n"
      ],
      "metadata": {
        "id": "9sqZZPI12leh"
      },
      "id": "9sqZZPI12leh"
    },
    {
      "cell_type": "code",
      "source": [
        "import json\n",
        "import pandas as pd\n",
        "import json\n",
        "import requests\n",
        "\n",
        "stock=input()"
      ],
      "metadata": {
        "id": "Y4mzQMnjMDA4",
        "outputId": "81cae3da-2739-465d-8712-d2acfcd83104",
        "colab": {
          "base_uri": "https://localhost:8080/"
        }
      },
      "id": "Y4mzQMnjMDA4",
      "execution_count": 52,
      "outputs": [
        {
          "name": "stdout",
          "output_type": "stream",
          "text": [
            "AAPL\n"
          ]
        }
      ]
    },
    {
      "cell_type": "code",
      "source": [
        "stock=input()\n",
        "stocklist = stock.split(',')"
      ],
      "metadata": {
        "id": "SWStAcbJQdyy",
        "outputId": "3e5914a8-89a0-4540-943c-dc370f172ff7",
        "colab": {
          "base_uri": "https://localhost:8080/"
        }
      },
      "id": "SWStAcbJQdyy",
      "execution_count": 89,
      "outputs": [
        {
          "name": "stdout",
          "output_type": "stream",
          "text": [
            "AAPL, BA, AMZN\n"
          ]
        }
      ]
    },
    {
      "cell_type": "code",
      "source": [
        "for stock in stocklist:\n",
        "  print(\"The Stock we will research is:\" + stock)\n",
        "  apikey=\"Leslyapi\"\n",
        "  url = \"https://yfapi.net/v6/finance/quote\"\n",
        "  querystring = {\"symbols\":stock}\n",
        "  headers = {\n",
        "    'x-api-key': apikey\n",
        "    }\n",
        "  response = requests.request(\"GET\", url, headers=headers, params=querystring)\n",
        "  print(response.text)\n",
        "  stock_json = response.json()\n",
        "  print(stock_json['quoteResponse']['result'][0][\"longName\"] + \" Price:$\" + str(stock_json['quoteResponse']['result'][0][\"regularMarketPrice\"]))"
      ],
      "metadata": {
        "id": "VL_C8ZEoRmS2",
        "outputId": "93f0cc5d-dcac-4db2-dc86-c49109700378",
        "colab": {
          "base_uri": "https://localhost:8080/"
        }
      },
      "id": "VL_C8ZEoRmS2",
      "execution_count": 90,
      "outputs": [
        {
          "output_type": "stream",
          "name": "stdout",
          "text": [
            "The Stock we will research is:AAPL\n",
            "{\"quoteResponse\":{\"result\":[{\"language\":\"en-US\",\"region\":\"US\",\"quoteType\":\"EQUITY\",\"typeDisp\":\"Equity\",\"quoteSourceName\":\"Nasdaq Real Time Price\",\"triggerable\":true,\"customPriceAlertConfidence\":\"HIGH\",\"currency\":\"USD\",\"postMarketChangePercent\":0.23294601,\"postMarketTime\":1727389300,\"postMarketPrice\":228.05,\"postMarketChange\":0.5299988,\"regularMarketChange\":1.1500092,\"regularMarketTime\":1727380801,\"regularMarketDayHigh\":228.5,\"regularMarketDayRange\":\"225.41 - 228.5\",\"regularMarketDayLow\":225.41,\"regularMarketVolume\":36490267,\"regularMarketPreviousClose\":226.37,\"bid\":227.37,\"ask\":238.68,\"bidSize\":1,\"askSize\":1,\"fullExchangeName\":\"NasdaqGS\",\"financialCurrency\":\"USD\",\"regularMarketOpen\":227.3,\"averageDailyVolume3Month\":55790612,\"averageDailyVolume10Day\":76429910,\"fiftyTwoWeekLowChange\":63.440002,\"fiftyTwoWeekLowChangePercent\":0.38664067,\"fiftyTwoWeekRange\":\"164.08 - 237.23\",\"fiftyTwoWeekHighChange\":-9.709991,\"fiftyTwoWeekHighChangePercent\":-0.040930707,\"fiftyTwoWeekLow\":164.08,\"fiftyTwoWeekHigh\":237.23,\"fiftyTwoWeekChangePercent\":32.620537,\"dividendDate\":1723680000,\"earningsTimestamp\":1722544200,\"earningsTimestampStart\":1730372340,\"earningsTimestampEnd\":1730721600,\"earningsCallTimestampStart\":1722546000,\"earningsCallTimestampEnd\":1722546000,\"isEarningsDateEstimate\":true,\"trailingAnnualDividendRate\":0.97,\"trailingPE\":34.682926,\"dividendRate\":1.0,\"trailingAnnualDividendYield\":0.0042850203,\"dividendYield\":0.44,\"epsTrailingTwelveMonths\":6.56,\"epsForward\":7.48,\"epsCurrentYear\":6.7,\"priceEpsCurrentYear\":33.95821,\"sharesOutstanding\":15204100096,\"bookValue\":4.382,\"fiftyDayAverage\":222.0468,\"fiftyDayAverageChange\":5.4732056,\"fiftyDayAverageChangePercent\":0.024648882,\"twoHundredDayAverage\":196.84895,\"twoHundredDayAverageChange\":30.671051,\"twoHundredDayAverageChangePercent\":0.15581007,\"marketCap\":3459237019648,\"forwardPE\":30.417112,\"priceToBook\":51.921497,\"sourceInterval\":15,\"exchangeDataDelayedBy\":0,\"averageAnalystRating\":\"2.0 - Buy\",\"tradeable\":false,\"cryptoTradeable\":false,\"marketState\":\"POST\",\"regularMarketChangePercent\":0.5080219,\"regularMarketPrice\":227.52,\"priceHint\":2,\"exchange\":\"NMS\",\"shortName\":\"Apple Inc.\",\"longName\":\"Apple Inc.\",\"messageBoardId\":\"finmb_24937\",\"exchangeTimezoneName\":\"America/New_York\",\"exchangeTimezoneShortName\":\"EDT\",\"gmtOffSetMilliseconds\":-14400000,\"market\":\"us_market\",\"esgPopulated\":false,\"hasPrePostMarketData\":true,\"firstTradeDateMilliseconds\":345479400000,\"displayName\":\"Apple\",\"symbol\":\"AAPL\"}],\"error\":null}}\n",
            "Apple Inc. Price:$227.52\n",
            "The Stock we will research is: BA\n",
            "{\"quoteResponse\":{\"result\":[{\"language\":\"en-US\",\"region\":\"US\",\"quoteType\":\"EQUITY\",\"typeDisp\":\"Equity\",\"quoteSourceName\":\"Nasdaq Real Time Price\",\"triggerable\":true,\"customPriceAlertConfidence\":\"HIGH\",\"currency\":\"USD\",\"marketState\":\"POST\",\"shortName\":\"Boeing Company (The)\",\"longName\":\"The Boeing Company\",\"messageBoardId\":\"finmb_370857\",\"exchangeTimezoneName\":\"America/New_York\",\"exchangeTimezoneShortName\":\"EDT\",\"gmtOffSetMilliseconds\":-14400000,\"market\":\"us_market\",\"esgPopulated\":false,\"regularMarketChangePercent\":1.55039,\"regularMarketPrice\":154.58,\"sharesOutstanding\":616222976,\"bookValue\":-29.204,\"fiftyDayAverage\":169.7142,\"fiftyDayAverageChange\":-15.134201,\"fiftyDayAverageChangePercent\":-0.08917463,\"twoHundredDayAverage\":190.70215,\"twoHundredDayAverageChange\":-36.122147,\"twoHundredDayAverageChangePercent\":-0.18941657,\"marketCap\":95255748608,\"forwardPE\":42.350685,\"priceToBook\":-5.2931104,\"sourceInterval\":15,\"exchangeDataDelayedBy\":0,\"averageAnalystRating\":\"2.3 - Buy\",\"tradeable\":false,\"cryptoTradeable\":false,\"hasPrePostMarketData\":true,\"postMarketPrice\":154.9799,\"postMarketChange\":0.39990234,\"regularMarketChange\":2.36,\"regularMarketTime\":1727380802,\"regularMarketDayHigh\":157.31,\"regularMarketDayRange\":\"152.66 - 157.31\",\"regularMarketDayLow\":152.66,\"regularMarketVolume\":11375872,\"regularMarketPreviousClose\":152.22,\"bid\":154.23,\"ask\":155.0,\"bidSize\":10,\"askSize\":13,\"fullExchangeName\":\"NYSE\",\"financialCurrency\":\"USD\",\"regularMarketOpen\":153.94,\"averageDailyVolume3Month\":6890519,\"averageDailyVolume10Day\":10248110,\"fiftyTwoWeekLowChange\":2.930008,\"fiftyTwoWeekLowChangePercent\":0.019320857,\"fiftyTwoWeekRange\":\"151.65 - 267.54\",\"fiftyTwoWeekHighChange\":-112.96001,\"fiftyTwoWeekHighChangePercent\":-0.42221725,\"fiftyTwoWeekLow\":151.65,\"fiftyTwoWeekHigh\":267.54,\"fiftyTwoWeekChangePercent\":-20.065117,\"dividendDate\":1583452800,\"earningsTimestamp\":1722425407,\"earningsTimestampStart\":1729686600,\"earningsTimestampEnd\":1730118600,\"earningsCallTimestampStart\":1722436200,\"earningsCallTimestampEnd\":1722436200,\"isEarningsDateEstimate\":true,\"trailingAnnualDividendRate\":0.0,\"trailingAnnualDividendYield\":0.0,\"epsTrailingTwelveMonths\":-5.65,\"epsForward\":3.65,\"epsCurrentYear\":-4.87,\"priceEpsCurrentYear\":-31.741274,\"exchange\":\"NYQ\",\"firstTradeDateMilliseconds\":-252322200000,\"priceHint\":2,\"postMarketChangePercent\":0.25870252,\"postMarketTime\":1727389281,\"symbol\":\"BA\"}],\"error\":null}}\n",
            "The Boeing Company Price:$154.58\n",
            "The Stock we will research is: AMZN\n",
            "{\"quoteResponse\":{\"result\":[{\"language\":\"en-US\",\"region\":\"US\",\"quoteType\":\"EQUITY\",\"typeDisp\":\"Equity\",\"quoteSourceName\":\"Nasdaq Real Time Price\",\"triggerable\":true,\"customPriceAlertConfidence\":\"HIGH\",\"currency\":\"USD\",\"marketState\":\"POST\",\"exchange\":\"NMS\",\"shortName\":\"Amazon.com, Inc.\",\"longName\":\"Amazon.com, Inc.\",\"messageBoardId\":\"finmb_18749\",\"exchangeTimezoneName\":\"America/New_York\",\"exchangeTimezoneShortName\":\"EDT\",\"gmtOffSetMilliseconds\":-14400000,\"market\":\"us_market\",\"esgPopulated\":false,\"postMarketChangePercent\":0.16739488,\"postMarketTime\":1727389294,\"postMarketPrice\":191.48,\"postMarketChange\":0.31999207,\"regularMarketChange\":-1.3699951,\"regularMarketTime\":1727380801,\"regularMarketDayHigh\":194.53,\"regularMarketDayRange\":\"189.58 - 194.53\",\"regularMarketDayLow\":189.58,\"regularMarketVolume\":34365371,\"regularMarketPreviousClose\":192.53,\"bid\":191.1,\"ask\":191.27,\"bidSize\":1,\"askSize\":1,\"fullExchangeName\":\"NasdaqGS\",\"financialCurrency\":\"USD\",\"regularMarketOpen\":194.22,\"averageDailyVolume3Month\":41927450,\"averageDailyVolume10Day\":39341710,\"fiftyTwoWeekLowChange\":72.810005,\"fiftyTwoWeekLowChangePercent\":0.61520916,\"fiftyTwoWeekRange\":\"118.35 - 201.2\",\"fiftyTwoWeekHighChange\":-10.039993,\"fiftyTwoWeekHighChangePercent\":-0.049900565,\"fiftyTwoWeekLow\":118.35,\"fiftyTwoWeekHigh\":201.2,\"fiftyTwoWeekChangePercent\":52.825844,\"earningsTimestamp\":1722542460,\"earningsTimestampStart\":1729767540,\"earningsTimestampEnd\":1730116800,\"earningsCallTimestampStart\":1722547800,\"earningsCallTimestampEnd\":1722547800,\"isEarningsDateEstimate\":true,\"trailingAnnualDividendRate\":0.0,\"trailingPE\":45.51429,\"trailingAnnualDividendYield\":0.0,\"epsTrailingTwelveMonths\":4.2,\"epsForward\":5.82,\"epsCurrentYear\":4.73,\"priceEpsCurrentYear\":40.414375,\"sharesOutstanding\":10495599616,\"bookValue\":22.54,\"fiftyDayAverage\":178.8666,\"fiftyDayAverageChange\":12.293411,\"fiftyDayAverageChangePercent\":0.0687295,\"twoHundredDayAverage\":175.6694,\"twoHundredDayAverageChange\":15.490601,\"twoHundredDayAverageChangePercent\":0.088180415,\"marketCap\":2006338895872,\"forwardPE\":32.84536,\"priceToBook\":8.480923,\"sourceInterval\":15,\"exchangeDataDelayedBy\":0,\"averageAnalystRating\":\"1.8 - Buy\",\"tradeable\":false,\"cryptoTradeable\":false,\"hasPrePostMarketData\":true,\"firstTradeDateMilliseconds\":863703000000,\"priceHint\":2,\"regularMarketChangePercent\":-0.71157485,\"regularMarketPrice\":191.16,\"displayName\":\"Amazon.com\",\"symbol\":\"AMZN\"}],\"error\":null}}\n",
            "Amazon.com, Inc. Price:$191.16\n"
          ]
        }
      ]
    }
  ],
  "metadata": {
    "kernelspec": {
      "display_name": "Python 3",
      "language": "python",
      "name": "python3"
    },
    "language_info": {
      "codemirror_mode": {
        "name": "ipython",
        "version": 3
      },
      "file_extension": ".py",
      "mimetype": "text/x-python",
      "name": "python",
      "nbconvert_exporter": "python",
      "version": "3.8.10"
    },
    "colab": {
      "provenance": []
    }
  },
  "nbformat": 4,
  "nbformat_minor": 5
}